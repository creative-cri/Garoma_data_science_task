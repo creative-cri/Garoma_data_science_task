{
 "cells": [
  {
   "cell_type": "markdown",
   "metadata": {},
   "source": [
    "Das Problem:\n",
    "Die Json Dateien sind nicht alle gleich.\n",
    "\n",
    "Wenn dein Program also auf eine Datei stösst, die eine unerwartete Struktur hat, stürzt es ab, obwohl es für korrekte dateien vermutlich gut funktionieren wird.\n",
    "\n",
    "z.B. ich schaue explizit nach einer Column \"categories\". Manche der JSON Dateien haben das aber nicht.\n",
    "Das führt dann zum Fehler.\n",
    "\n",
    "Die Teil-Lösung, ist - wir programmieren das defensiv, so dass nur explizit \"gute\" Dateien verarbetier werden.\n",
    "Wir schauen also nach, ob die datei die Struktur hat, die wir auch erwarten.\n",
    "\n",
    "    if \"categories\" in df.columns:\n",
    "        ...\n",
    "\n",
    "Wenn ja, verarbeiten wir die Datei; Wenn nein überspringen wir sie.\n",
    "\n",
    "Das vermeidet den Programfehler aber wir verlieren einen Teil der Daten.\n",
    "\n",
    "Ich habe unten einen Code geschrieben, der die \"guten\" Dateien verarbeitet (das sind 1226 von 1609, also so ca 75% - man könnte zu Not sagen, dass es reicht)\n",
    "\n",
    "Zusätzlich macht das Program eine Liste von Dateien die nicht verarbeitet werden konnten - d.h. man kann sich die anschauen, und zusätzliche methoden schreiben, die diese anderen Dateien verarbeiten können (wiederum - defensiv - die methode wird nur aufgerufen, wenn die Datei dazu passt.)\n",
    "\n",
    "Auf diese weise sollten mit jeder neuen Methode weniger \"schlechte\" Dateien übersprungen werden."
   ]
  },
  {
   "cell_type": "markdown",
   "metadata": {},
   "source": [
    "### pandas read_json() demo"
   ]
  },
  {
   "cell_type": "code",
   "execution_count": 1,
   "metadata": {},
   "outputs": [
    {
     "data": {
      "text/html": [
       "<div>\n",
       "<style scoped>\n",
       "    .dataframe tbody tr th:only-of-type {\n",
       "        vertical-align: middle;\n",
       "    }\n",
       "\n",
       "    .dataframe tbody tr th {\n",
       "        vertical-align: top;\n",
       "    }\n",
       "\n",
       "    .dataframe thead th {\n",
       "        text-align: right;\n",
       "    }\n",
       "</style>\n",
       "<table border=\"1\" class=\"dataframe\">\n",
       "  <thead>\n",
       "    <tr style=\"text-align: right;\">\n",
       "      <th></th>\n",
       "      <th>categories</th>\n",
       "    </tr>\n",
       "  </thead>\n",
       "  <tbody>\n",
       "    <tr>\n",
       "      <th>0</th>\n",
       "      <td>{'name': 'Bowls', 'category': 'Bowls', 'items'...</td>\n",
       "    </tr>\n",
       "    <tr>\n",
       "      <th>1</th>\n",
       "      <td>{'name': 'Salate', 'category': 'Alle Salate we...</td>\n",
       "    </tr>\n",
       "    <tr>\n",
       "      <th>2</th>\n",
       "      <td>{'name': 'Burger', 'category': 'Alle Burger we...</td>\n",
       "    </tr>\n",
       "    <tr>\n",
       "      <th>3</th>\n",
       "      <td>{'name': 'Burger Menü', 'category': '', 'items...</td>\n",
       "    </tr>\n",
       "    <tr>\n",
       "      <th>4</th>\n",
       "      <td>{'name': 'Pizza, Ø 30cm', 'category': 'Alle Pi...</td>\n",
       "    </tr>\n",
       "  </tbody>\n",
       "</table>\n",
       "</div>"
      ],
      "text/plain": [
       "                                          categories\n",
       "0  {'name': 'Bowls', 'category': 'Bowls', 'items'...\n",
       "1  {'name': 'Salate', 'category': 'Alle Salate we...\n",
       "2  {'name': 'Burger', 'category': 'Alle Burger we...\n",
       "3  {'name': 'Burger Menü', 'category': '', 'items...\n",
       "4  {'name': 'Pizza, Ø 30cm', 'category': 'Alle Pi..."
      ]
     },
     "execution_count": 1,
     "metadata": {},
     "output_type": "execute_result"
    }
   ],
   "source": [
    "import pandas as pd\n",
    "\n",
    "df = pd.read_json(\"test_file.json\")\n",
    "\n",
    "df.head()\n",
    "\n",
    "# we will for now read one json file as a dataframe.\n",
    "# infortunately the file is nested\n",
    "# {\n",
    "#    categories {\n",
    "#        name       # cat_name\n",
    "#        category   # cat_desc\n",
    "#        items[     # list of items per category\n",
    "#            {\n",
    "#               name    # item properties\n",
    "#               price\n",
    "#               ingredients   \n",
    "#               description\n",
    "#            },\n",
    "#            ......    more items\n",
    "#        ]\n",
    "#    },\n",
    "#    ......    more categories\n",
    "# }\n",
    "# so we got a dataftame of categories, each holding a list of items.\n",
    "# below we will unpack the data such that each item is a row in the final dataframe"
   ]
  },
  {
   "cell_type": "code",
   "execution_count": 2,
   "metadata": {},
   "outputs": [
    {
     "data": {
      "text/html": [
       "<div>\n",
       "<style scoped>\n",
       "    .dataframe tbody tr th:only-of-type {\n",
       "        vertical-align: middle;\n",
       "    }\n",
       "\n",
       "    .dataframe tbody tr th {\n",
       "        vertical-align: top;\n",
       "    }\n",
       "\n",
       "    .dataframe thead th {\n",
       "        text-align: right;\n",
       "    }\n",
       "</style>\n",
       "<table border=\"1\" class=\"dataframe\">\n",
       "  <thead>\n",
       "    <tr style=\"text-align: right;\">\n",
       "      <th></th>\n",
       "      <th>name</th>\n",
       "      <th>category</th>\n",
       "      <th>items</th>\n",
       "    </tr>\n",
       "  </thead>\n",
       "  <tbody>\n",
       "    <tr>\n",
       "      <th>0</th>\n",
       "      <td>Bowls</td>\n",
       "      <td>Bowls</td>\n",
       "      <td>[{'name': 'Chicken Bowl', 'price': '13,90 €', ...</td>\n",
       "    </tr>\n",
       "    <tr>\n",
       "      <th>1</th>\n",
       "      <td>Salate</td>\n",
       "      <td>Alle Salate werden mit buntem Salat, Gurken, T...</td>\n",
       "      <td>[{'name': 'Falafel Salat', 'price': '10,90 €',...</td>\n",
       "    </tr>\n",
       "    <tr>\n",
       "      <th>2</th>\n",
       "      <td>Burger</td>\n",
       "      <td>Alle Burger werden mit 100% Rindfleisch (200g)...</td>\n",
       "      <td>[{'name': 'Classic Beef Hamburger', 'price': '...</td>\n",
       "    </tr>\n",
       "    <tr>\n",
       "      <th>3</th>\n",
       "      <td>Burger Menü</td>\n",
       "      <td></td>\n",
       "      <td>[{'name': 'Classic Beef Hamburger Menü', 'pric...</td>\n",
       "    </tr>\n",
       "    <tr>\n",
       "      <th>4</th>\n",
       "      <td>Pizza, Ø 30cm</td>\n",
       "      <td>Alle Pizzen werden mit Tomatensauce und Käse z...</td>\n",
       "      <td>[{'name': 'Pizza Margherita', 'price': '8,90 €...</td>\n",
       "    </tr>\n",
       "  </tbody>\n",
       "</table>\n",
       "</div>"
      ],
      "text/plain": [
       "            name                                           category  \\\n",
       "0          Bowls                                              Bowls   \n",
       "1         Salate  Alle Salate werden mit buntem Salat, Gurken, T...   \n",
       "2         Burger  Alle Burger werden mit 100% Rindfleisch (200g)...   \n",
       "3    Burger Menü                                                      \n",
       "4  Pizza, Ø 30cm  Alle Pizzen werden mit Tomatensauce und Käse z...   \n",
       "\n",
       "                                               items  \n",
       "0  [{'name': 'Chicken Bowl', 'price': '13,90 €', ...  \n",
       "1  [{'name': 'Falafel Salat', 'price': '10,90 €',...  \n",
       "2  [{'name': 'Classic Beef Hamburger', 'price': '...  \n",
       "3  [{'name': 'Classic Beef Hamburger Menü', 'pric...  \n",
       "4  [{'name': 'Pizza Margherita', 'price': '8,90 €...  "
      ]
     },
     "execution_count": 2,
     "metadata": {},
     "output_type": "execute_result"
    }
   ],
   "source": [
    "category_info = pd.json_normalize(df[\"categories\"])\n",
    "\n",
    "category_info.head()\n",
    "\n",
    "# here we unfolded the dataframe extracting category name and description\n",
    "# the items are still a list that we need to further unpack"
   ]
  },
  {
   "cell_type": "code",
   "execution_count": 3,
   "metadata": {},
   "outputs": [
    {
     "name": "stdout",
     "output_type": "stream",
     "text": [
      "name                                                   Salate\n",
      "category    Alle Salate werden mit buntem Salat, Gurken, T...\n",
      "items       [{'name': 'Falafel Salat', 'price': '10,90 €',...\n",
      "Name: 1, dtype: object\n",
      "\n",
      "cat_name='Salate'\n",
      "cat_desc='Alle Salate werden mit buntem Salat, Gurken, Tomaten, Paprika, Mais und roten Zwiebeln zubereitet.'\n",
      "row['items']=[{'name': 'Falafel Salat', 'price': '10,90\\xa0€', 'ingredients': 'Falafel, gemischte Wildkräuter und Blattsalat, Tomaten, Gurken,Avocado & Brot', 'description': 'Wahl aus: mit Balsamico-Dressing, mit Dressing, hausgemacht, mit Honig-Senf-Dressing oder ohne Dressing.'}, {'name': 'Gemischter Salat mit Hähnchenbruststreifen (groß)', 'price': '11,90\\xa0€', 'ingredients': 'Hähnchenbrust, gemischte Wildkräuter und Blattsalat, Avocado, Parmesan, Tomaten, Gurken,Paprika, Nussmix und Brot', 'description': 'Wahl aus: mit Balsamico-Dressing, mit Dressing, hausgemacht, mit Honig-Senf-Dressing oder ohne Dressing.'}, {'name': 'Beilagensalat (klein)', 'price': '3,90\\xa0€', 'ingredients': 'mit Karottenstreifen', 'description': 'Wahl aus: mit Balsamico-Dressing, mit Dressing, hausgemacht, mit Honig-Senf-Dressing oder ohne Dressing.'}]\n"
     ]
    }
   ],
   "source": [
    "# this is an example single row just to see how the data is stored\n",
    "# row is a dict with name, category and items\n",
    "\n",
    "row = category_info.iloc[1]\n",
    "\n",
    "print(row)\n",
    "\n",
    "cat_name = row[\"name\"]\n",
    "cat_desc = row[\"category\"]\n",
    "\n",
    "print()\n",
    "print(f\"{cat_name=}\")\n",
    "print(f\"{cat_desc=}\")\n",
    "print(f\"{row['items']=}\")"
   ]
  },
  {
   "cell_type": "code",
   "execution_count": 4,
   "metadata": {},
   "outputs": [
    {
     "name": "stdout",
     "output_type": "stream",
     "text": [
      "<class 'pandas.core.frame.DataFrame'>\n",
      "RangeIndex: 32 entries, 0 to 31\n",
      "Data columns (total 6 columns):\n",
      " #   Column         Non-Null Count  Dtype \n",
      "---  ------         --------------  ----- \n",
      " 0   name           32 non-null     object\n",
      " 1   price          32 non-null     object\n",
      " 2   ingredients    32 non-null     object\n",
      " 3   description    32 non-null     object\n",
      " 4   category_name  32 non-null     object\n",
      " 5   category_text  32 non-null     object\n",
      "dtypes: object(6)\n",
      "memory usage: 1.6+ KB\n",
      "None\n",
      "\n",
      "take a look at a single row:\n",
      "name                                                  Falafel Bowl\n",
      "price                                                      13,90 €\n",
      "ingredients      Wildreis, Falafel, Salat, gegrillte Paprika, F...\n",
      "description                                                       \n",
      "category_name                                                Bowls\n",
      "category_text                                                Bowls\n",
      "Name: 1, dtype: object\n"
     ]
    }
   ],
   "source": [
    "# now we will iterate through all categories and through each item in each category\n",
    "# to fully \"flatten\" the nested dataframe extracting each item as it's own row\n",
    "\n",
    "all_items = []\n",
    "\n",
    "# iterating categories\n",
    "for _, row in category_info.iterrows():\n",
    "    cat_name = row[\"name\"]\n",
    "    cat_desc = row[\"category\"]\n",
    "\n",
    "    # iterating items within one category\n",
    "    for i in row[\"items\"]:\n",
    "        # i will be a dict with name, price, ingredients and description of an item\n",
    "        # we also add the category info to each item\n",
    "        i[\"category_name\"] = cat_name\n",
    "        i[\"category_text\"] = cat_desc\n",
    "\n",
    "        all_items.append(i)\n",
    "\n",
    "# create dataframe from the items list\n",
    "full_items_df = pd.DataFrame(all_items)\n",
    "\n",
    "print(full_items_df.info())\n",
    "print(\"\\ntake a look at a single row:\")\n",
    "row = full_items_df.iloc[1]\n",
    "print(row)"
   ]
  },
  {
   "cell_type": "code",
   "execution_count": 5,
   "metadata": {},
   "outputs": [],
   "source": [
    "# we processed a single file into a dataframe.\n",
    "# we will convert this into a function, that we can successively call on each meny file"
   ]
  },
  {
   "cell_type": "markdown",
   "metadata": {},
   "source": [
    "### Attempt to read a diffrent JSON schema\n",
    "    [\n",
    "        {\n",
    "            \"model\": \"m1\",\n",
    "            \"section_name\": \"\",\n",
    "            \"items\": [\n",
    "                {\n",
    "                    \"name\": \"Insalata Verde\",\n",
    "                    \"description\": \"\",\n",
    "                    \"ingredients\": [\n",
    "                        \"Eisbergsalat\",\n",
    "                        \" Gurken\",\n",
    "                        \" Mais\",\n",
    "                        \" Rucola\"\n",
    "                    ],\n",
    "                    \"price_raw\": \"3,00 €\",\n",
    "                    \"price\": 3.0\n",
    "                },"
   ]
  },
  {
   "cell_type": "code",
   "execution_count": 6,
   "metadata": {},
   "outputs": [],
   "source": [
    "df = pd.read_json(\"test_file_pattern_2.json\")"
   ]
  },
  {
   "cell_type": "code",
   "execution_count": 7,
   "metadata": {},
   "outputs": [
    {
     "data": {
      "text/html": [
       "<div>\n",
       "<style scoped>\n",
       "    .dataframe tbody tr th:only-of-type {\n",
       "        vertical-align: middle;\n",
       "    }\n",
       "\n",
       "    .dataframe tbody tr th {\n",
       "        vertical-align: top;\n",
       "    }\n",
       "\n",
       "    .dataframe thead th {\n",
       "        text-align: right;\n",
       "    }\n",
       "</style>\n",
       "<table border=\"1\" class=\"dataframe\">\n",
       "  <thead>\n",
       "    <tr style=\"text-align: right;\">\n",
       "      <th></th>\n",
       "      <th>model</th>\n",
       "      <th>section_name</th>\n",
       "      <th>items</th>\n",
       "    </tr>\n",
       "  </thead>\n",
       "  <tbody>\n",
       "    <tr>\n",
       "      <th>0</th>\n",
       "      <td>m1</td>\n",
       "      <td></td>\n",
       "      <td>[{'name': 'Insalata Verde', 'description': '',...</td>\n",
       "    </tr>\n",
       "  </tbody>\n",
       "</table>\n",
       "</div>"
      ],
      "text/plain": [
       "  model section_name                                              items\n",
       "0    m1               [{'name': 'Insalata Verde', 'description': '',..."
      ]
     },
     "execution_count": 7,
     "metadata": {},
     "output_type": "execute_result"
    }
   ],
   "source": [
    "df.head()"
   ]
  },
  {
   "cell_type": "code",
   "execution_count": 8,
   "metadata": {},
   "outputs": [
    {
     "name": "stdout",
     "output_type": "stream",
     "text": [
      "                   name description  \\\n",
      "0        Insalata Verde               \n",
      "1        Insalata Verde               \n",
      "2  Insalata di Pomodori               \n",
      "3        Insalata Mista               \n",
      "4     Insalata Italiana               \n",
      "\n",
      "                                         ingredients   price category_name  \\\n",
      "0            [Eisbergsalat,  Gurken,  Mais,  Rucola]  3,00 €            m1   \n",
      "1            [Eisbergsalat,  Gurken,  Mais,  Rucola]  4,00 €            m1   \n",
      "2                               [Tomaten,  Zwiebeln]  4,00 €            m1   \n",
      "3                          [gemischter Salat,  Mais]  6,00 €            m1   \n",
      "4  [gemischter Salat,  Mais,  Zwiebeln,  Schinken...  6,50 €            m1   \n",
      "\n",
      "  category_text  \n",
      "0                \n",
      "1                \n",
      "2                \n",
      "3                \n",
      "4                \n"
     ]
    }
   ],
   "source": [
    "all_items = []\n",
    "\n",
    "for _, row in df.iterrows():\n",
    "    cat_name = row[\"model\"]\n",
    "    cat_desc = row[\"section_name\"]\n",
    "\n",
    "    for i in row[\"items\"]:\n",
    "        i[\"category_name\"] = cat_name\n",
    "        i[\"category_text\"] = cat_desc\n",
    "        i[\"price\"] = i[\"price_raw\"]\n",
    "        i.pop(\"price_raw\", None)\n",
    "\n",
    "        all_items.append(i)\n",
    "\n",
    "full_df = pd.DataFrame(all_items)\n",
    "print(full_df.head())"
   ]
  }
 ],
 "metadata": {
  "kernelspec": {
   "display_name": "Python 3",
   "language": "python",
   "name": "python3"
  },
  "language_info": {
   "codemirror_mode": {
    "name": "ipython",
    "version": 3
   },
   "file_extension": ".py",
   "mimetype": "text/x-python",
   "name": "python",
   "nbconvert_exporter": "python",
   "pygments_lexer": "ipython3",
   "version": "3.12.0"
  }
 },
 "nbformat": 4,
 "nbformat_minor": 2
}
