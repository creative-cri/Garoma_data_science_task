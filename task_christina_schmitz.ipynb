{
 "cells": [
  {
   "cell_type": "markdown",
   "id": "def252b0",
   "metadata": {},
   "source": [
    "# Data Science Coca-Cola Aufgabe "
   ]
  },
  {
   "cell_type": "markdown",
   "metadata": {},
   "source": [
    "\n",
    "# Problem \n",
    "\n",
    "Nachdem wir erfolgreich die Speisekarten von mehr als 120.000 Gastronomien sammeln konnten, ist eine der aktuellen \n",
    "\n",
    "Herausforderungen der Aufbau einer Datenpipeline, die die Datensätze bereinigt und über unsere API in die Datenbank \n",
    "\n",
    "einspielt. \n",
    "\n",
    "Ein besonderes Augenmerk liegt hierbei auf den Preisen der Speisen und Getränke, welche durch die verschiedenen \n",
    "\n",
    "Datenquellen in der Regel nicht normalisiert sind. So können die Preise unter Umständen folgenden Formate annehmen: \n",
    "\n",
    "- 5,50€\n",
    "- 5,50 €\n",
    "- 5.50 €\n",
    "- 5.50 €\n",
    "- 5.50,-\n",
    "- 5.50\n",
    "- 5,50\n",
    "- 550\n",
    "\n",
    "\n",
    "Nicht selten schleichen sich hier auch Fehler bei der Extraktion ein, sodass das Komma oder der Punkt nicht korrekt \n",
    "\n",
    "erkannt wird und der Preis statt 5,50€ 550€ beträgt. \n",
    "\n",
    "In diesem Ordner findest du eine Sammlung von extrahierten Speisekarten (~1600 Stück). Die Aufgabe besteht nun darin, \n",
    "\n",
    "eine Funktion / Methode in Python zu schreiben, welche die Datensätze nimmt, die Preise bereinigt und normalisiert, \n",
    "\n",
    "sodass der Preis stets in Cent angeben wird (z.B. 5,50€ = 550). \n",
    "\n",
    "Auf Basis dieses bereinigten Datensatzes soll dann die Preisverteilung von Coca Cola visualisiert werden. \n",
    "\n",
    "Dies kann als Excel, als matplot Graph oder einem anderen Medium deiner Wahl geschehen. \n",
    "\n",
    "Es geht hierbei in erster Linie darum, einen Überblick zu erhalten. \n",
    "\n",
    "\n",
    "Sollten Ausreißer in den Werten oder Datensätzen auftreten, sind diese ebenfalls zu bereinigen, zu exkludieren oder \n",
    "\n",
    "zumindest zu taggen. Ausreißer könnten bspw. ein Cola Preis von 20cent oder 20€ sein, also Werte, die eindeutig\n",
    "\n",
    "falsch sind. Außerdem können manche Speisekarten unvollständig oder leer sein. "
   ]
  },
  {
   "cell_type": "markdown",
   "metadata": {},
   "source": [
    "<img src=\"cola3.png\">"
   ]
  },
  {
   "cell_type": "markdown",
   "metadata": {},
   "source": [
    "### Um diese Aufgabe zu erledigen, werde ich die nächsten Schritte unternehmen:\n",
    "\n",
    "- Ich werde Menüdaten für Speisen, Getränke und Preise aus einer Sammlung von Menüs in einer großen Anzahl von JSON-Dateien lesen. \n",
    "- Ich werde die Daten in ein einzelnes DataFrame zur Analyse sammeln und als kombinierte CSV-Datei für einen späteren einfacheren Zugriff speichern. \n",
    "- Ich werde die Preise verarbeiten und sie als Cent formatieren.\n",
    "- Ich werde Coca-Cola Daten vizualizieren\n",
    "\n",
    "### Zu lösende Probleme: \n",
    "\n",
    "1) Nicht alle JSON-Dateien halten sich an das gleiche Schema. Ich habe zwei Methoden implementiert, um die beiden verschiedenen JSON-Schema zu lesen, die im Datensatz gefunden wurden. Alle präsentierten Dateien können gelesen und verarbeitet werden (einige enthalten jedoch keine Daten). Bei der Untersuchung der verschiedenen JSON-Schemata habe ich auch eine Kontrolle implementiert, die eine Liste fehlgeschlagener Dateien zurückgibt, um diese weiter zu untersuchen. Aktuell können alle Dateien erfolgreich verarbeitet werden; sollte jedoch eine Datei nicht gelesen werden können, kann ich sie anhand der Fehlerliste untersuchen. \n",
    "2) Der Name Coca Cola erscheint in verschiedenen Formen und Schreibweisen. Ich verwende reguläre Ausdrücke, um so viele Instanzen wie möglich zu erfassen.\n",
    "3) Unterschiedliche Menüs listen das Getränk in unterschiedlichen Volumengrößen auf.\n",
    "Ich versuche gängige Größenformate mithilfe regulärer Ausdrücke zu lesen; einige Datensätze müssen jedoch verworfen werden, wenn kein Volumen gelesen werden kann (128 von 2561 oder etwa 5% verworfene Einträge).\n",
    "4) Derzeit trenne ich nicht zwischen den verschiedenen Geschmacksrichtungen von Coca Cola (Light, Zero usw.), da die Preise normalerweise gleich sind.\n",
    "\n"
   ]
  },
  {
   "cell_type": "markdown",
   "metadata": {},
   "source": [
    "## Verarbeitung des Datenordners \n",
    "\n",
    "Ich definiere und wende Funktionen an, um mehrere gültige JSON-Menüdateien aus einem Ordner zu lesen, sie in ein Pandas-Datenframe zu transformieren und die Ergebnisse als CSV für später zu speichern."
   ]
  },
  {
   "cell_type": "code",
   "execution_count": 1,
   "id": "208ae936",
   "metadata": {},
   "outputs": [],
   "source": [
    "import pandas as pd\n",
    "import os\n",
    "import re\n",
    "import matplotlib.pyplot as plt"
   ]
  },
  {
   "cell_type": "markdown",
   "metadata": {},
   "source": [
    "### def process_categories()"
   ]
  },
  {
   "cell_type": "code",
   "execution_count": 2,
   "id": "6e8792d3",
   "metadata": {},
   "outputs": [],
   "source": [
    "\"\"\" the function will process a dataframe of the known shape\n",
    "    categories {\n",
    "        name, category,\n",
    "        items[...]\n",
    "    }\n",
    "    this is how the majority of the menus are presented\n",
    "    params:\n",
    "    df - the dataframe to transform\n",
    "    file_id - the name of the source file\n",
    "    returns:\n",
    "    the processed dataframe\n",
    "\"\"\"\n",
    "def process_categories(df, file_id):\n",
    "    df = pd.json_normalize(df[\"categories\"])\n",
    "\n",
    "    all_items = []\n",
    "    # iterating categories\n",
    "    for _, row in df.iterrows():\n",
    "        cat_name = row[\"name\"]\n",
    "        cat_desc = row[\"category\"]\n",
    "\n",
    "        # iterating items within one category\n",
    "        for i in row[\"items\"]:\n",
    "            # it will be a dict with name, price, ingredients and description of an item\n",
    "            # I also add the category info to each item\n",
    "            # here I also add the file the data came from as \"menu_file_id\"\n",
    "            # this also ensures, that entries in the final dataframe remain unique (if the same item is in multiple menus)\n",
    "            i[\"category_name\"] = cat_name\n",
    "            i[\"category_text\"] = cat_desc\n",
    "            i[\"menu_file_id\"] = file_id\n",
    "\n",
    "            all_items.append(i)\n",
    "    \n",
    "    return pd.DataFrame(all_items)"
   ]
  },
  {
   "cell_type": "markdown",
   "metadata": {},
   "source": [
    "### def process_sections()"
   ]
  },
  {
   "cell_type": "code",
   "execution_count": 3,
   "id": "a30b9e9b",
   "metadata": {},
   "outputs": [],
   "source": [
    "\"\"\" function will process a dataframe of the shape\n",
    "    [{model, section_name,\n",
    "      items[...]\n",
    "    }]\n",
    "    params:\n",
    "    df - the dataframe to process\n",
    "    file_id - name of the source file\n",
    "    returns:\n",
    "    the processed dataframe\n",
    "\"\"\"\n",
    "def process_sections(df, file_id):\n",
    "    all_items = []\n",
    "    for _, row in df.iterrows():\n",
    "        cat_name = row[\"model\"]\n",
    "        cat_desc = row[\"section_name\"]\n",
    "\n",
    "        # iterating over the items in one section\n",
    "        for i in row[\"items\"]:\n",
    "            i[\"category_name\"] = cat_name\n",
    "            i[\"category_text\"] = cat_desc\n",
    "            i[\"menu_file_id\"] = file_id\n",
    "            # this JSON schema has preprocessed prices\n",
    "            # I make the entry conform to our dataframe \n",
    "            i[\"price\"] = i[\"price_raw\"]\n",
    "            i.pop(\"price_raw\", None)\n",
    "\n",
    "            all_items.append(i)\n",
    "    \n",
    "    return pd.DataFrame(all_items)\n",
    "        \n"
   ]
  },
  {
   "cell_type": "markdown",
   "metadata": {},
   "source": [
    "### def read_json_menu()"
   ]
  },
  {
   "cell_type": "code",
   "execution_count": 4,
   "id": "1130e53b",
   "metadata": {},
   "outputs": [],
   "source": [
    "\"\"\" the function will take a filename and return a dataframe from that file\n",
    "    params:\n",
    "    filename - the OS filename to read from (should be a json)\n",
    "    file_is - the source file identifier to write into the df\n",
    "    returns:\n",
    "    the contents of the given json menu file as pandas dataframe\n",
    "    might return None if the given file was not read successfully\n",
    "\"\"\"\n",
    "def read_json_menu(filename, file_id):\n",
    "\n",
    "    df = pd.read_json(filename)\n",
    "    # process files that have recognized shapes\n",
    "    if \"categories\" in df.columns:\n",
    "        return process_categories(df, file_id)\n",
    "    \n",
    "    if \"section_name\" in df.columns:\n",
    "        return process_sections(df, file_id)\n",
    "    \n",
    "    # only happens, if the file was not processed\n",
    "    return None"
   ]
  },
  {
   "cell_type": "markdown",
   "metadata": {},
   "source": [
    "### def read_all_json_from_folder()"
   ]
  },
  {
   "cell_type": "code",
   "execution_count": 5,
   "id": "098d6678",
   "metadata": {},
   "outputs": [],
   "source": [
    "\"\"\" the function will take a folder path, read and process all contained json files\n",
    "    params:\n",
    "    folder - the OS path the folder with the json menu files\n",
    "    returns:\n",
    "    a tuple containing:\n",
    "        dataframe with all the information from all files in the given folder\n",
    "        a list of files that failed to process\n",
    "        number of files read\n",
    "        number of files successfully processed\n",
    "\"\"\"         \n",
    "def read_all_json_from_folder(folder):\n",
    "    dfs = []\n",
    "    file_count = 0\n",
    "    success_count = 0\n",
    "    fail_list = []\n",
    "    # iterate through files in the given folder\n",
    "    for file_id in os.listdir(folder):\n",
    "        # skip files that aren't json\n",
    "        if not file_id.endswith(\".json\"):\n",
    "            continue\n",
    "\n",
    "        file_count += 1\n",
    "        file_path = os.path.join(folder, file_id)\n",
    "        read_json_menu(file_path, file_id)\n",
    "        df = read_json_menu(file_path, file_id)\n",
    "        if df is None:\n",
    "            fail_list.append(file_id)\n",
    "        else:\n",
    "            dfs.append(df)\n",
    "            success_count += 1\n",
    "\n",
    "    return pd.concat(dfs, ignore_index=True), fail_list, file_count, success_count"
   ]
  },
  {
   "cell_type": "markdown",
   "metadata": {},
   "source": [
    "## Lesen und verarbeiten alle JSON-Dateien, die bekannten Schemata entsprechen. \n",
    "\n",
    "Ich lese die erkannte Mehrheit der JSON-Dateien und erhalte einen Bericht über Dateien, die nicht gelesen werden konnten, um sie weiter zu untersuchen.\n"
   ]
  },
  {
   "cell_type": "code",
   "execution_count": 6,
   "id": "4b08b934",
   "metadata": {},
   "outputs": [
    {
     "name": "stdout",
     "output_type": "stream",
     "text": [
      "Successfully read 1609 out of 1609 menus\n"
     ]
    }
   ],
   "source": [
    "# process json files that adhere to the known schema\n",
    "folder = \"./Datensatz-Probeaufgabe\"\n",
    "\n",
    "full_df, fail_list, file_count, success_count = read_all_json_from_folder(folder)\n",
    "\n",
    "print(f\"Successfully read {success_count} out of {file_count} menus\")"
   ]
  },
  {
   "cell_type": "code",
   "execution_count": 7,
   "id": "602dca31",
   "metadata": {},
   "outputs": [
    {
     "name": "stdout",
     "output_type": "stream",
     "text": [
      "Files that failed to process:\n"
     ]
    }
   ],
   "source": [
    "# get a list of failed files for further investigation\n",
    "print(\"Files that failed to process:\")\n",
    "for e in fail_list:\n",
    "    print(e)"
   ]
  },
  {
   "cell_type": "markdown",
   "metadata": {},
   "source": [
    "## Verarbeitung des Dataframes\n",
    "\n",
    "### def strip_price()"
   ]
  },
  {
   "cell_type": "code",
   "execution_count": 8,
   "id": "c5036264",
   "metadata": {},
   "outputs": [],
   "source": [
    "\"\"\" function will convert the entry to cents by dropping all characters,\n",
    "    that are not a digit\n",
    "    params:\n",
    "    price - the string representation of a price\n",
    "    returns:\n",
    "    the integer price in cents\n",
    "    None if the price string can not be converted\n",
    "\"\"\"\n",
    "def strip_price(price_str):\n",
    "    price = None\n",
    "    try:\n",
    "        price = int(\"\".join(filter(str.isdigit, price_str)))\n",
    "    except ValueError:\n",
    "        pass\n",
    "\n",
    "    return price"
   ]
  },
  {
   "cell_type": "code",
   "execution_count": 9,
   "id": "1b5b7543",
   "metadata": {},
   "outputs": [],
   "source": [
    "# create a new column for processed prices. \n",
    "# keeping the original price column unchanged, in case it is needed later\n",
    "full_df.insert(1, \"clean_price\", full_df[\"price\"].apply(strip_price))"
   ]
  },
  {
   "cell_type": "code",
   "execution_count": 10,
   "id": "1902be11",
   "metadata": {},
   "outputs": [
    {
     "name": "stdout",
     "output_type": "stream",
     "text": [
      "<class 'pandas.core.frame.DataFrame'>\n",
      "RangeIndex: 67355 entries, 0 to 67354\n",
      "Data columns (total 8 columns):\n",
      " #   Column         Non-Null Count  Dtype  \n",
      "---  ------         --------------  -----  \n",
      " 0   name           67355 non-null  object \n",
      " 1   clean_price    67186 non-null  float64\n",
      " 2   description    66329 non-null  object \n",
      " 3   ingredients    67355 non-null  object \n",
      " 4   price          67355 non-null  object \n",
      " 5   category_name  67355 non-null  object \n",
      " 6   category_text  67351 non-null  object \n",
      " 7   menu_file_id   67355 non-null  object \n",
      "dtypes: float64(1), object(7)\n",
      "memory usage: 4.1+ MB\n"
     ]
    }
   ],
   "source": [
    "full_df.info()"
   ]
  },
  {
   "cell_type": "markdown",
   "metadata": {},
   "source": [
    "## Schreiben der CSV-Datei für einen einfacheren Zugriff später"
   ]
  },
  {
   "cell_type": "code",
   "execution_count": 11,
   "id": "45889e09",
   "metadata": {},
   "outputs": [
    {
     "name": "stdout",
     "output_type": "stream",
     "text": [
      "\n",
      "Writing successfull data to processed_menus.csv\n"
     ]
    }
   ],
   "source": [
    "# write the data we got as a csv\n",
    "csv_out = \"processed_menus.csv\"\n",
    "\n",
    "print(f\"\\nWriting successfull data to {csv_out}\")    \n",
    "full_df.to_csv(\"processed_menus.csv\")"
   ]
  },
  {
   "cell_type": "markdown",
   "metadata": {},
   "source": [
    "## Untersuchung der Coca-Cola-Preise\n",
    "\n",
    "Ich sammle alle Vorkommen von Coca-Cola, die ich mit einem regulären Ausdruck finden kann. Das Getränk wird in verschiedenen Volumengrößen angeboten. Dies wird den Preisvergleich verzerren und erfordert zusätzliche Verarbeitung, um den Preis pro Einheit zu berechnen. Vorläufig werde ich mir nur die Verteilung ansehen und davon ausgehen, dass der Großteil der normalen Verteilung für die gängigste Getränkegröße gilt.\n"
   ]
  },
  {
   "cell_type": "code",
   "execution_count": 12,
   "id": "6496ceba",
   "metadata": {},
   "outputs": [
    {
     "name": "stdout",
     "output_type": "stream",
     "text": [
      "<class 'pandas.core.frame.DataFrame'>\n",
      "Index: 2561 entries, 21 to 67345\n",
      "Data columns (total 8 columns):\n",
      " #   Column         Non-Null Count  Dtype  \n",
      "---  ------         --------------  -----  \n",
      " 0   name           2561 non-null   object \n",
      " 1   clean_price    2561 non-null   float64\n",
      " 2   description    2561 non-null   object \n",
      " 3   ingredients    2561 non-null   object \n",
      " 4   price          2561 non-null   object \n",
      " 5   category_name  2561 non-null   object \n",
      " 6   category_text  2561 non-null   object \n",
      " 7   menu_file_id   2561 non-null   object \n",
      "dtypes: float64(1), object(7)\n",
      "memory usage: 180.1+ KB\n"
     ]
    }
   ],
   "source": [
    "# create a new dataframe filtered for coca-cola\n",
    "pattern = \"Coca[- ]?Cola.*\"\n",
    "\n",
    "cola_df = full_df[full_df[\"name\"].str.contains(pattern, case=False, regex=True)].copy()\n",
    "cola_df.info()"
   ]
  },
  {
   "cell_type": "markdown",
   "metadata": {},
   "source": [
    "## Entfernen von Ausreißern basierend auf dem Interquartilsbereich"
   ]
  },
  {
   "cell_type": "markdown",
   "metadata": {},
   "source": [
    "<img src=\"cola1.png\">"
   ]
  },
  {
   "cell_type": "markdown",
   "metadata": {},
   "source": [
    "### def trim_iql()"
   ]
  },
  {
   "cell_type": "code",
   "execution_count": 13,
   "id": "6ff48326",
   "metadata": {},
   "outputs": [],
   "source": [
    "\"\"\" function will drop outliers form a given dataframe based on interquantile range\n",
    "    params:\n",
    "    df - the input dataframe (will not be changed)\n",
    "    columnt - numeric column to trim by\n",
    "    returns:\n",
    "    a new dataframe cleared of outliers\n",
    "\"\"\"\n",
    "def trim_iql(df, col):\n",
    "    q_low = df[col].quantile(0.25)\n",
    "    q_high = df[col].quantile(0.75)\n",
    "    iqr = q_high - q_low\n",
    "\n",
    "    b_low = q_low - 1.5 * iqr\n",
    "    b_high = q_high + 1.5 * iqr\n",
    "\n",
    "    return df[(df[col] >= b_low) & (df[col] <= b_high)]"
   ]
  },
  {
   "cell_type": "code",
   "execution_count": 14,
   "id": "85535d69",
   "metadata": {},
   "outputs": [],
   "source": [
    "cola_df_iql = trim_iql(cola_df, \"clean_price\")"
   ]
  },
  {
   "cell_type": "markdown",
   "metadata": {},
   "source": [
    "## Histogram Plot der Rohpreisverteilung"
   ]
  },
  {
   "cell_type": "code",
   "execution_count": 15,
   "id": "acc74a8a",
   "metadata": {},
   "outputs": [
    {
     "data": {
      "image/png": "[encoded data removed]",
      "text/plain": [
       "<Figure size 640x480 with 1 Axes>"
      ]
     },
     "metadata": {},
     "output_type": "display_data"
    }
   ],
   "source": [
    "plt.hist(\n",
    "    cola_df_iql[\"clean_price\"],\n",
    "    bins=20, color=\"skyblue\", edgecolor=\"black\"\n",
    ")\n",
    "plt.xlabel(\"Price\")\n",
    "plt.ylabel(\"Frequency\")\n",
    "plt.title(\"Price distribution for Coca Cola\")\n",
    "plt.grid(False)\n",
    "plt.show()"
   ]
  },
  {
   "cell_type": "markdown",
   "metadata": {},
   "source": [
    "Da die Getränke in verschiedenen Größen angeboten werden, kann ich davon ausgehen, dass die Peaks des Histogramms verschiedenen Größen entsprechen. Ich werde versuchen, die Größe aus den Artikelbeschreibungen zu lesen und den Preis pro Liter zu betrachten.\n",
    "\n",
    "## Versuch, die Getränkegröße zu lesen \n",
    "\n",
    "Ich werde versuchen, die Größe des Getränks zu lesen, wenn sie im Namenseintrag enthalten ist. Wenn ein Volumen gefunden werden kann, werde ich es in eine neue Spalte speichern und den Preis pro Liter des Getränks berechnen.\n",
    "\n",
    "## def read_size()"
   ]
  },
  {
   "cell_type": "code",
   "execution_count": 16,
   "id": "9d86cc36",
   "metadata": {},
   "outputs": [],
   "source": [
    "\"\"\" the function will attempt to extract the volume of the drink \n",
    "    from the name field of a drink\n",
    "    params:\n",
    "    items_text - the menu name of a drink, possibly containing a size\n",
    "    returns:\n",
    "    size in liters, if possible\n",
    "    None otherwise\n",
    "\"\"\"\n",
    "def read_size(item_text):\n",
    "\n",
    "    # read volumees given in ml (330ml, 200ml)\n",
    "    size_pattern_ml = r\"(\\d+)\\s*ml\"\n",
    "    hits = re.findall(size_pattern_ml, item_text)\n",
    "    if hits:\n",
    "        return float(hits[0]/1000)\n",
    "\n",
    "    # read volumes given in l (1.0, ,5, 0.5L etc)\n",
    "    size_pattern_l = r\"(\\d*[\\.,]?\\d+)\\s*[lL]\"\n",
    "    hits = re.findall(size_pattern_l, item_text)\n",
    "    if hits:\n",
    "        return float(hits[0].replace(\",\", \".\"))\n",
    "\n",
    "    # default if no size was matched. will become Nan in the DF    \n",
    "    return None"
   ]
  },
  {
   "cell_type": "code",
   "execution_count": 17,
   "id": "00d3ee8b",
   "metadata": {},
   "outputs": [],
   "source": [
    "cola_df.insert(2, \"drink_size\", cola_df[\"name\"].apply(read_size))"
   ]
  },
  {
   "cell_type": "code",
   "execution_count": 18,
   "id": "f4845103",
   "metadata": {},
   "outputs": [
    {
     "data": {
      "text/html": [
       "<div>\n",
       "<style scoped>\n",
       "    .dataframe tbody tr th:only-of-type {\n",
       "        vertical-align: middle;\n",
       "    }\n",
       "\n",
       "    .dataframe tbody tr th {\n",
       "        vertical-align: top;\n",
       "    }\n",
       "\n",
       "    .dataframe thead th {\n",
       "        text-align: right;\n",
       "    }\n",
       "</style>\n",
       "<table border=\"1\" class=\"dataframe\">\n",
       "  <thead>\n",
       "    <tr style=\"text-align: right;\">\n",
       "      <th></th>\n",
       "      <th>name</th>\n",
       "      <th>clean_price</th>\n",
       "      <th>drink_size</th>\n",
       "      <th>description</th>\n",
       "      <th>ingredients</th>\n",
       "      <th>price</th>\n",
       "      <th>category_name</th>\n",
       "      <th>category_text</th>\n",
       "      <th>menu_file_id</th>\n",
       "    </tr>\n",
       "  </thead>\n",
       "  <tbody>\n",
       "    <tr>\n",
       "      <th>64</th>\n",
       "      <td>Coca-Cola 0,2l (MEHRWEG)</td>\n",
       "      <td>320.0</td>\n",
       "      <td>0.20</td>\n",
       "      <td></td>\n",
       "      <td>Coca-Cola steht für einzigartigen Geschmack, E...</td>\n",
       "      <td>3,20 €</td>\n",
       "      <td>Alkoholfreie Getränke</td>\n",
       "      <td></td>\n",
       "      <td>ChIJwUmsFuQHvUcR93M8kvRhfgY-c448fc7d-a53b-4d67...</td>\n",
       "    </tr>\n",
       "    <tr>\n",
       "      <th>126</th>\n",
       "      <td>Coca-cola 1,0l (mehrweg)</td>\n",
       "      <td>300.0</td>\n",
       "      <td>1.00</td>\n",
       "      <td></td>\n",
       "      <td>Coca-cola steht für einzigartigen geschmack, e...</td>\n",
       "      <td>3,00 €</td>\n",
       "      <td>Alkoholfreie Getränke</td>\n",
       "      <td></td>\n",
       "      <td>ChIJ-8zEUvcHvUcRfHp8W15k4N8-delivery.json</td>\n",
       "    </tr>\n",
       "    <tr>\n",
       "      <th>166</th>\n",
       "      <td>Coca-Cola 0,33l (EINWEG)</td>\n",
       "      <td>220.0</td>\n",
       "      <td>0.33</td>\n",
       "      <td></td>\n",
       "      <td>Coca-Cola steht für einzigartigen Geschmack, E...</td>\n",
       "      <td>2,20 €</td>\n",
       "      <td>Alkoholfreie Getränke</td>\n",
       "      <td></td>\n",
       "      <td>ChIJtSIcZwJxvUcRl7Py2q3e_Sc-delivery.json</td>\n",
       "    </tr>\n",
       "    <tr>\n",
       "      <th>195</th>\n",
       "      <td>Coca Cola 1,0l</td>\n",
       "      <td>350.0</td>\n",
       "      <td>1.00</td>\n",
       "      <td></td>\n",
       "      <td>Coca-Cola steht für einzigartigen Geschmack, E...</td>\n",
       "      <td>3,50 €</td>\n",
       "      <td>Alkoholfreie Getränke</td>\n",
       "      <td></td>\n",
       "      <td>ChIJh48pO8DivEcRl0tJ2pFie6U-delivery.json</td>\n",
       "    </tr>\n",
       "    <tr>\n",
       "      <th>196</th>\n",
       "      <td>Coca Cola light taste 1,0l</td>\n",
       "      <td>350.0</td>\n",
       "      <td>1.00</td>\n",
       "      <td></td>\n",
       "      <td>Light taste: Leichter als das Original und in ...</td>\n",
       "      <td>3,50 €</td>\n",
       "      <td>Alkoholfreie Getränke</td>\n",
       "      <td></td>\n",
       "      <td>ChIJh48pO8DivEcRl0tJ2pFie6U-delivery.json</td>\n",
       "    </tr>\n",
       "  </tbody>\n",
       "</table>\n",
       "</div>"
      ],
      "text/plain": [
       "                           name  clean_price  drink_size description  \\\n",
       "64     Coca-Cola 0,2l (MEHRWEG)        320.0        0.20               \n",
       "126    Coca-cola 1,0l (mehrweg)        300.0        1.00               \n",
       "166    Coca-Cola 0,33l (EINWEG)        220.0        0.33               \n",
       "195              Coca Cola 1,0l        350.0        1.00               \n",
       "196  Coca Cola light taste 1,0l        350.0        1.00               \n",
       "\n",
       "                                           ingredients   price  \\\n",
       "64   Coca-Cola steht für einzigartigen Geschmack, E...  3,20 €   \n",
       "126  Coca-cola steht für einzigartigen geschmack, e...  3,00 €   \n",
       "166  Coca-Cola steht für einzigartigen Geschmack, E...  2,20 €   \n",
       "195  Coca-Cola steht für einzigartigen Geschmack, E...  3,50 €   \n",
       "196  Light taste: Leichter als das Original und in ...  3,50 €   \n",
       "\n",
       "             category_name category_text  \\\n",
       "64   Alkoholfreie Getränke                 \n",
       "126  Alkoholfreie Getränke                 \n",
       "166  Alkoholfreie Getränke                 \n",
       "195  Alkoholfreie Getränke                 \n",
       "196  Alkoholfreie Getränke                 \n",
       "\n",
       "                                          menu_file_id  \n",
       "64   ChIJwUmsFuQHvUcR93M8kvRhfgY-c448fc7d-a53b-4d67...  \n",
       "126          ChIJ-8zEUvcHvUcRfHp8W15k4N8-delivery.json  \n",
       "166          ChIJtSIcZwJxvUcRl7Py2q3e_Sc-delivery.json  \n",
       "195          ChIJh48pO8DivEcRl0tJ2pFie6U-delivery.json  \n",
       "196          ChIJh48pO8DivEcRl0tJ2pFie6U-delivery.json  "
      ]
     },
     "execution_count": 18,
     "metadata": {},
     "output_type": "execute_result"
    }
   ],
   "source": [
    "cola_df_size = cola_df.dropna(subset=\"drink_size\")\n",
    "cola_df_size.head()"
   ]
  },
  {
   "cell_type": "code",
   "execution_count": 19,
   "id": "bffaf620",
   "metadata": {},
   "outputs": [
    {
     "name": "stdout",
     "output_type": "stream",
     "text": [
      "<class 'pandas.core.frame.DataFrame'>\n",
      "Index: 2433 entries, 64 to 67345\n",
      "Data columns (total 9 columns):\n",
      " #   Column         Non-Null Count  Dtype  \n",
      "---  ------         --------------  -----  \n",
      " 0   name           2433 non-null   object \n",
      " 1   clean_price    2433 non-null   float64\n",
      " 2   drink_size     2433 non-null   float64\n",
      " 3   description    2433 non-null   object \n",
      " 4   ingredients    2433 non-null   object \n",
      " 5   price          2433 non-null   object \n",
      " 6   category_name  2433 non-null   object \n",
      " 7   category_text  2433 non-null   object \n",
      " 8   menu_file_id   2433 non-null   object \n",
      "dtypes: float64(2), object(7)\n",
      "memory usage: 190.1+ KB\n"
     ]
    }
   ],
   "source": [
    "cola_df_size.info()"
   ]
  },
  {
   "cell_type": "code",
   "execution_count": 20,
   "id": "b7a6a203",
   "metadata": {},
   "outputs": [],
   "source": [
    "# drop the NaN entries and the outliers based on IQL (for price per liter, rather than the raw price)\n",
    "cola_df_size = cola_df.dropna(subset=\"drink_size\")\n",
    "cola_df_size.insert(3, \"price_per_1l\", cola_df_size[\"clean_price\"]//cola_df_size[\"drink_size\"])"
   ]
  },
  {
   "cell_type": "code",
   "execution_count": 21,
   "id": "e3a9e560",
   "metadata": {},
   "outputs": [],
   "source": [
    "cola_df_size = trim_iql(cola_df_size, \"clean_price\")"
   ]
  },
  {
   "cell_type": "markdown",
   "metadata": {},
   "source": [
    "## Histogram Plot der Preise pro Liter Getränk"
   ]
  },
  {
   "cell_type": "code",
   "execution_count": 22,
   "id": "6f8bcef8",
   "metadata": {},
   "outputs": [
    {
     "data": {
      "image/png": "[encoded data removed]",
      "text/plain": [
       "<Figure size 640x480 with 1 Axes>"
      ]
     },
     "metadata": {},
     "output_type": "display_data"
    }
   ],
   "source": [
    "plt.hist(\n",
    "    cola_df_size[\"price_per_1l\"],\n",
    "    bins=20, color=\"skyblue\", edgecolor=\"black\"\n",
    ")\n",
    "plt.xlabel(\"Price\")\n",
    "plt.ylabel(\"Frequency\")\n",
    "plt.title(\"Price distribution Cents per Liter of Coca Cola\")\n",
    "plt.grid(False)\n",
    "plt.show()"
   ]
  },
  {
   "cell_type": "markdown",
   "metadata": {},
   "source": [
    "## Untersuchung der Ausreißer\n",
    "\n",
    "Bei Preisen von bis zu 18,00 Euro pro Liter vermute ich, dass das IQL-Kriterium für die Ausreißer möglicherweise verschärft werden muss. Ich werfe einen Blick auf einige der Ausreißer, um zu versuchen festzustellen, ob und wie sie Fehler sein könnten. Die Ergebnisse zeigen höhere Preise (pro Liter) für kleinere Getränkeportionen und scheinen konsistent zu sein."
   ]
  },
  {
   "cell_type": "code",
   "execution_count": 23,
   "id": "41e47765",
   "metadata": {},
   "outputs": [
    {
     "data": {
      "text/html": [
       "<div>\n",
       "<style scoped>\n",
       "    .dataframe tbody tr th:only-of-type {\n",
       "        vertical-align: middle;\n",
       "    }\n",
       "\n",
       "    .dataframe tbody tr th {\n",
       "        vertical-align: top;\n",
       "    }\n",
       "\n",
       "    .dataframe thead th {\n",
       "        text-align: right;\n",
       "    }\n",
       "</style>\n",
       "<table border=\"1\" class=\"dataframe\">\n",
       "  <thead>\n",
       "    <tr style=\"text-align: right;\">\n",
       "      <th></th>\n",
       "      <th>name</th>\n",
       "      <th>clean_price</th>\n",
       "      <th>drink_size</th>\n",
       "      <th>price_per_1l</th>\n",
       "      <th>description</th>\n",
       "      <th>ingredients</th>\n",
       "      <th>price</th>\n",
       "      <th>category_name</th>\n",
       "      <th>category_text</th>\n",
       "      <th>menu_file_id</th>\n",
       "    </tr>\n",
       "  </thead>\n",
       "  <tbody>\n",
       "    <tr>\n",
       "      <th>64</th>\n",
       "      <td>Coca-Cola 0,2l (MEHRWEG)</td>\n",
       "      <td>320.0</td>\n",
       "      <td>0.2</td>\n",
       "      <td>1599.0</td>\n",
       "      <td></td>\n",
       "      <td>Coca-Cola steht für einzigartigen Geschmack, E...</td>\n",
       "      <td>3,20 €</td>\n",
       "      <td>Alkoholfreie Getränke</td>\n",
       "      <td></td>\n",
       "      <td>ChIJwUmsFuQHvUcR93M8kvRhfgY-c448fc7d-a53b-4d67...</td>\n",
       "    </tr>\n",
       "    <tr>\n",
       "      <th>3787</th>\n",
       "      <td>Coca-Cola® Zero 0,2l</td>\n",
       "      <td>350.0</td>\n",
       "      <td>0.2</td>\n",
       "      <td>1749.0</td>\n",
       "      <td></td>\n",
       "      <td></td>\n",
       "      <td>3,50 €</td>\n",
       "      <td>ALKOHOLFREIE GETRÄNKE 🥤</td>\n",
       "      <td></td>\n",
       "      <td>ChIJyZEfElgJvUcRgBLuk3uE87g-78c18e70-6035-46c0...</td>\n",
       "    </tr>\n",
       "    <tr>\n",
       "      <th>6900</th>\n",
       "      <td>Coca-Cola® 0,2 l</td>\n",
       "      <td>335.0</td>\n",
       "      <td>0.2</td>\n",
       "      <td>1674.0</td>\n",
       "      <td></td>\n",
       "      <td></td>\n",
       "      <td>3,35 €</td>\n",
       "      <td>ALKOHOLFREIE GETRÄNKE 🥤\\n</td>\n",
       "      <td></td>\n",
       "      <td>ChIJWZtKXKUOvUcRYq4pKEbsvHs-delivery.json</td>\n",
       "    </tr>\n",
       "    <tr>\n",
       "      <th>6902</th>\n",
       "      <td>Coca-Cola® Zero 0,2 l</td>\n",
       "      <td>335.0</td>\n",
       "      <td>0.2</td>\n",
       "      <td>1674.0</td>\n",
       "      <td></td>\n",
       "      <td></td>\n",
       "      <td>3,35 €</td>\n",
       "      <td>ALKOHOLFREIE GETRÄNKE 🥤\\n</td>\n",
       "      <td></td>\n",
       "      <td>ChIJWZtKXKUOvUcRYq4pKEbsvHs-delivery.json</td>\n",
       "    </tr>\n",
       "    <tr>\n",
       "      <th>10150</th>\n",
       "      <td>Coca-Cola 0,2l</td>\n",
       "      <td>365.0</td>\n",
       "      <td>0.2</td>\n",
       "      <td>1824.0</td>\n",
       "      <td></td>\n",
       "      <td>Coca-Cola steht für einzigartigen Geschmack, E...</td>\n",
       "      <td>3,65 €</td>\n",
       "      <td>Non-Alcoholic Drinks</td>\n",
       "      <td></td>\n",
       "      <td>ChIJyZEfElgJvUcRgBLuk3uE87g-da266930-3690-43f6...</td>\n",
       "    </tr>\n",
       "  </tbody>\n",
       "</table>\n",
       "</div>"
      ],
      "text/plain": [
       "                           name  clean_price  drink_size  price_per_1l  \\\n",
       "64     Coca-Cola 0,2l (MEHRWEG)        320.0         0.2        1599.0   \n",
       "3787       Coca-Cola® Zero 0,2l        350.0         0.2        1749.0   \n",
       "6900           Coca-Cola® 0,2 l        335.0         0.2        1674.0   \n",
       "6902      Coca-Cola® Zero 0,2 l        335.0         0.2        1674.0   \n",
       "10150            Coca-Cola 0,2l        365.0         0.2        1824.0   \n",
       "\n",
       "      description                                        ingredients   price  \\\n",
       "64                 Coca-Cola steht für einzigartigen Geschmack, E...  3,20 €   \n",
       "3787                                                                  3,50 €   \n",
       "6900                                                                  3,35 €   \n",
       "6902                                                                  3,35 €   \n",
       "10150              Coca-Cola steht für einzigartigen Geschmack, E...  3,65 €   \n",
       "\n",
       "                   category_name category_text  \\\n",
       "64         Alkoholfreie Getränke                 \n",
       "3787     ALKOHOLFREIE GETRÄNKE 🥤                 \n",
       "6900   ALKOHOLFREIE GETRÄNKE 🥤\\n                 \n",
       "6902   ALKOHOLFREIE GETRÄNKE 🥤\\n                 \n",
       "10150       Non-Alcoholic Drinks                 \n",
       "\n",
       "                                            menu_file_id  \n",
       "64     ChIJwUmsFuQHvUcR93M8kvRhfgY-c448fc7d-a53b-4d67...  \n",
       "3787   ChIJyZEfElgJvUcRgBLuk3uE87g-78c18e70-6035-46c0...  \n",
       "6900           ChIJWZtKXKUOvUcRYq4pKEbsvHs-delivery.json  \n",
       "6902           ChIJWZtKXKUOvUcRYq4pKEbsvHs-delivery.json  \n",
       "10150  ChIJyZEfElgJvUcRgBLuk3uE87g-da266930-3690-43f6...  "
      ]
     },
     "execution_count": 23,
     "metadata": {},
     "output_type": "execute_result"
    }
   ],
   "source": [
    "cola_df_outliers = cola_df_size[cola_df_size[\"price_per_1l\"] > 1500]\n",
    "cola_df_outliers.head()"
   ]
  },
  {
   "cell_type": "markdown",
   "metadata": {},
   "source": [
    "## Fazit : \n",
    "\n",
    "Nachdem mir die Data-Science-Aufgabe übertragen wurde, habe ich mich damit beschäftigt, eine Funktion in Python zu entwickeln, um die Preise zu bereinigen und zu normalisieren. \n",
    "Die Preise wurden in verschiedenen Formaten erfasst, wie 5,50€, 5.50 € oder auch fehlerhaft als 550€. Ich habe eine Funktion entwickelt, um die Datensätze zu nehmen und die Preise so zu normalisieren, dass sie immer in Cent angegeben werden (z.B. 5,50€ = 550). \n",
    "\n",
    "Anschließend habe ich auf Basis dieses bereinigten Datensatzes die Preisverteilung von Coca Cola visualisiert und Ausreißer identifiziert sowie entsprechend bereinigt oder markiert. Dabei bin ich auf Preise gestoßen, die bis zu 18 Euro pro Liter betrugen und festgestellt, dass das IQL-Kriterium für Ausreißer möglicherweise verschärft werden muss.\n",
    "\n",
    "Ich konnte außerdem feststellen, dass höhere Preise pro Liter für kleinere Getränkeportionen konsistent sind.\n"
   ]
  }
 ],
 "metadata": {
  "kernelspec": {
   "display_name": "Python 3 (ipykernel)",
   "language": "python",
   "name": "python3"
  },
  "language_info": {
   "codemirror_mode": {
    "name": "ipython",
    "version": 3
   },
   "file_extension": ".py",
   "mimetype": "text/x-python",
   "name": "python",
   "nbconvert_exporter": "python",
   "pygments_lexer": "ipython3",
   "version": "3.12.0"
  }
 },
 "nbformat": 4,
 "nbformat_minor": 5
}
